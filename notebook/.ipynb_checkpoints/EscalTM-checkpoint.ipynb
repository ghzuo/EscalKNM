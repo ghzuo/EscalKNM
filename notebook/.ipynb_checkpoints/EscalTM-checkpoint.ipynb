{
 "cells": [
  {
   "cell_type": "code",
   "execution_count": 2,
   "metadata": {
    "ExecuteTime": {
     "end_time": "2020-08-25T13:09:44.033059Z",
     "start_time": "2020-08-25T13:09:42.854723Z"
    }
   },
   "outputs": [],
   "source": [
    "# Basic set of Python Data Analysis\n",
    "import numpy as np\n",
    "import pandas as pd\n",
    "pd.set_option('display.max_rows',None)\n",
    "pd.set_option('display.width',180)\n",
    "pd.set_option('display.max_colwidth', 20)\n",
    "\n",
    "## for plot by matplotlib\n",
    "import matplotlib.pyplot as plt\n",
    "import seaborn as sns\n",
    "%matplotlib inline\n",
    "\n",
    "from matplotlib import animation\n",
    "from IPython.display import HTML\n",
    "\n",
    "from cycler import cycler\n",
    "sns.set(font=\"DejaVu Sans\", font_scale=1.8,\n",
    "        rc={'figure.figsize':(10,10), \n",
    "            'lines.markersize':15, \n",
    "            \"animation.embed_limit\":100})\n",
    "sns.mpl.rc(\"axes\", prop_cycle=cycler('color',\n",
    "        ['#E24A33', '#348ABD', '#988ED5', \n",
    "         '#777777', '#FBC15E', '#8EBA42',\n",
    "         '#FFB5B8']))\n",
    "\n",
    "## for markers\n",
    "import itertools\n",
    "marker = itertools.cycle(('o', 'v', '^','D', '+', 'X', '<', '>')) \n",
    "colors =  itertools.cycle(('#E24A33', '#348ABD', '#988ED5', '#777777', '#FBC15E', '#8EBA42', '#FFB5B8'))\n",
    "\n",
    "## don't show warning\n",
    "import warnings\n",
    "warnings.filterwarnings('ignore')\n",
    "\n",
    "## the data directory\n",
    "datadir = \"../study/active/\""
   ]
  },
  {
   "cell_type": "markdown",
   "metadata": {},
   "source": [
    "# 读入结构数据"
   ]
  },
  {
   "cell_type": "code",
   "execution_count": 13,
   "metadata": {
    "ExecuteTime": {
     "end_time": "2020-08-25T13:12:01.561395Z",
     "start_time": "2020-08-25T13:12:01.557319Z"
    }
   },
   "outputs": [],
   "source": [
    "#A = pd.read_csv(datadir + \"angles.dat\")\n",
    "A = pd.DataFrame(np.random.rand(10,2))\n",
    "X = pd.concat([np.cos(A),np.sin(A)], axis=1)"
   ]
  },
  {
   "cell_type": "code",
   "execution_count": 14,
   "metadata": {
    "ExecuteTime": {
     "end_time": "2020-08-25T13:12:06.708902Z",
     "start_time": "2020-08-25T13:12:06.700528Z"
    }
   },
   "outputs": [
    {
     "data": {
      "text/html": [
       "<div>\n",
       "<style scoped>\n",
       "    .dataframe tbody tr th:only-of-type {\n",
       "        vertical-align: middle;\n",
       "    }\n",
       "\n",
       "    .dataframe tbody tr th {\n",
       "        vertical-align: top;\n",
       "    }\n",
       "\n",
       "    .dataframe thead th {\n",
       "        text-align: right;\n",
       "    }\n",
       "</style>\n",
       "<table border=\"1\" class=\"dataframe\">\n",
       "  <thead>\n",
       "    <tr style=\"text-align: right;\">\n",
       "      <th></th>\n",
       "      <th>0</th>\n",
       "      <th>1</th>\n",
       "      <th>0</th>\n",
       "      <th>1</th>\n",
       "    </tr>\n",
       "  </thead>\n",
       "  <tbody>\n",
       "    <tr>\n",
       "      <th>0</th>\n",
       "      <td>0.990869</td>\n",
       "      <td>0.999465</td>\n",
       "      <td>0.134831</td>\n",
       "      <td>0.032718</td>\n",
       "    </tr>\n",
       "    <tr>\n",
       "      <th>1</th>\n",
       "      <td>0.866948</td>\n",
       "      <td>0.581414</td>\n",
       "      <td>0.498398</td>\n",
       "      <td>0.813608</td>\n",
       "    </tr>\n",
       "    <tr>\n",
       "      <th>2</th>\n",
       "      <td>0.998074</td>\n",
       "      <td>0.972067</td>\n",
       "      <td>0.062039</td>\n",
       "      <td>0.234704</td>\n",
       "    </tr>\n",
       "    <tr>\n",
       "      <th>3</th>\n",
       "      <td>0.882045</td>\n",
       "      <td>0.995108</td>\n",
       "      <td>0.471165</td>\n",
       "      <td>0.098795</td>\n",
       "    </tr>\n",
       "    <tr>\n",
       "      <th>4</th>\n",
       "      <td>0.778526</td>\n",
       "      <td>0.694217</td>\n",
       "      <td>0.627612</td>\n",
       "      <td>0.719766</td>\n",
       "    </tr>\n",
       "    <tr>\n",
       "      <th>5</th>\n",
       "      <td>0.677877</td>\n",
       "      <td>0.833806</td>\n",
       "      <td>0.735176</td>\n",
       "      <td>0.552057</td>\n",
       "    </tr>\n",
       "    <tr>\n",
       "      <th>6</th>\n",
       "      <td>0.920553</td>\n",
       "      <td>0.975090</td>\n",
       "      <td>0.390619</td>\n",
       "      <td>0.221811</td>\n",
       "    </tr>\n",
       "    <tr>\n",
       "      <th>7</th>\n",
       "      <td>0.747488</td>\n",
       "      <td>0.830272</td>\n",
       "      <td>0.664275</td>\n",
       "      <td>0.557358</td>\n",
       "    </tr>\n",
       "    <tr>\n",
       "      <th>8</th>\n",
       "      <td>0.897818</td>\n",
       "      <td>0.576973</td>\n",
       "      <td>0.440367</td>\n",
       "      <td>0.816763</td>\n",
       "    </tr>\n",
       "    <tr>\n",
       "      <th>9</th>\n",
       "      <td>0.945778</td>\n",
       "      <td>0.808654</td>\n",
       "      <td>0.324813</td>\n",
       "      <td>0.588284</td>\n",
       "    </tr>\n",
       "  </tbody>\n",
       "</table>\n",
       "</div>"
      ],
      "text/plain": [
       "          0         1         0         1\n",
       "0  0.990869  0.999465  0.134831  0.032718\n",
       "1  0.866948  0.581414  0.498398  0.813608\n",
       "2  0.998074  0.972067  0.062039  0.234704\n",
       "3  0.882045  0.995108  0.471165  0.098795\n",
       "4  0.778526  0.694217  0.627612  0.719766\n",
       "5  0.677877  0.833806  0.735176  0.552057\n",
       "6  0.920553  0.975090  0.390619  0.221811\n",
       "7  0.747488  0.830272  0.664275  0.557358\n",
       "8  0.897818  0.576973  0.440367  0.816763\n",
       "9  0.945778  0.808654  0.324813  0.588284"
      ]
     },
     "execution_count": 14,
     "metadata": {},
     "output_type": "execute_result"
    }
   ],
   "source": [
    "X"
   ]
  },
  {
   "cell_type": "markdown",
   "metadata": {},
   "source": [
    "# 读入能量与傅里叶变换"
   ]
  },
  {
   "cell_type": "code",
   "execution_count": 67,
   "metadata": {
    "ExecuteTime": {
     "end_time": "2020-08-25T14:17:33.374939Z",
     "start_time": "2020-08-25T14:17:33.368610Z"
    }
   },
   "outputs": [
    {
     "data": {
      "text/plain": [
       "0    0.001479\n",
       "1   -0.030739\n",
       "2    0.076628\n",
       "3   -0.121618\n",
       "4    0.148524\n",
       "5   -0.147069\n",
       "6    0.117808\n",
       "7   -0.071919\n",
       "8    0.026929\n",
       "9   -0.000024\n",
       "Name: 0, dtype: float64"
      ]
     },
     "execution_count": 67,
     "metadata": {},
     "output_type": "execute_result"
    }
   ],
   "source": [
    "#E = pd.read_csv(datadir + \"energ.dat\")\n",
    "E = pd.DataFrame(np.random.rand(10))\n",
    "F = np.fft.rfft(E[0])\n",
    "kappa = 4\n",
    "Ef = np.fft.irfft(F[0:kappa],10)\n",
    "E[0] - Ef"
   ]
  },
  {
   "cell_type": "markdown",
   "metadata": {},
   "source": [
    "# 多元回归分析"
   ]
  },
  {
   "cell_type": "code",
   "execution_count": 55,
   "metadata": {
    "ExecuteTime": {
     "end_time": "2020-08-25T14:15:13.584167Z",
     "start_time": "2020-08-25T14:15:13.581343Z"
    }
   },
   "outputs": [],
   "source": [
    "kappa = 3\n",
    "Ef = np.fft.irfft(F[0:kappa],10)\n",
    "#np.linalg.lstsq(z,y)"
   ]
  },
  {
   "cell_type": "raw",
   "metadata": {},
   "source": [
    "Ef"
   ]
  },
  {
   "cell_type": "code",
   "execution_count": null,
   "metadata": {},
   "outputs": [],
   "source": []
  },
  {
   "cell_type": "markdown",
   "metadata": {},
   "source": [
    "# 重标度数据的PCA分析"
   ]
  },
  {
   "cell_type": "markdown",
   "metadata": {},
   "source": [
    "# 空间投影"
   ]
  },
  {
   "cell_type": "markdown",
   "metadata": {},
   "source": [
    "# 相似性分析"
   ]
  },
  {
   "cell_type": "markdown",
   "metadata": {},
   "source": [
    "# 聚类"
   ]
  },
  {
   "cell_type": "markdown",
   "metadata": {},
   "source": [
    "# 轨迹离散化"
   ]
  },
  {
   "cell_type": "code",
   "execution_count": null,
   "metadata": {},
   "outputs": [],
   "source": []
  }
 ],
 "metadata": {
  "hide_input": false,
  "kernelspec": {
   "display_name": "Python 3 (ipykernel)",
   "language": "python",
   "name": "python3"
  },
  "language_info": {
   "codemirror_mode": {
    "name": "ipython",
    "version": 3
   },
   "file_extension": ".py",
   "mimetype": "text/x-python",
   "name": "python",
   "nbconvert_exporter": "python",
   "pygments_lexer": "ipython3",
   "version": "3.9.12"
  },
  "toc": {
   "base_numbering": 1,
   "nav_menu": {},
   "number_sections": true,
   "sideBar": true,
   "skip_h1_title": false,
   "title_cell": "Table of Contents",
   "title_sidebar": "Contents",
   "toc_cell": false,
   "toc_position": {},
   "toc_section_display": "block",
   "toc_window_display": true
  },
  "varInspector": {
   "cols": {
    "lenName": 16,
    "lenType": 16,
    "lenVar": 40
   },
   "kernels_config": {
    "python": {
     "delete_cmd_postfix": "",
     "delete_cmd_prefix": "del ",
     "library": "var_list.py",
     "varRefreshCmd": "print(var_dic_list())"
    },
    "r": {
     "delete_cmd_postfix": ") ",
     "delete_cmd_prefix": "rm(",
     "library": "var_list.r",
     "varRefreshCmd": "cat(var_dic_list()) "
    }
   },
   "types_to_exclude": [
    "module",
    "function",
    "builtin_function_or_method",
    "instance",
    "_Feature"
   ],
   "window_display": false
  }
 },
 "nbformat": 4,
 "nbformat_minor": 4
}
